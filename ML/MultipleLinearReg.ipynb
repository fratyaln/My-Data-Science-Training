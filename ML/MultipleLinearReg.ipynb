{
 "cells": [
  {
   "cell_type": "code",
   "execution_count": null,
   "id": "63c7a2ae",
   "metadata": {},
   "outputs": [],
   "source": [
    "import pandas as pd\n",
    "import numpy as np\n",
    "import seaborn as sns\n",
    "import matplotlib.pyplot as plt\n",
    "import statsmodels.api as sm\n",
    "import statsmodels.formula.api as smf\n",
    "import numpy as np\n",
    "from sklearn.metrics import mean_squared_error ,r2_score\n",
    "from sklearn.linear_model import LinearRegression\n",
    "from sklearn.model_selection import train_test_split ,cross_val_score,cross_val_predict\n",
    "\n"
   ]
  },
  {
   "cell_type": "code",
   "execution_count": null,
   "id": "e820ef88",
   "metadata": {},
   "outputs": [
    {
     "data": {
      "text/html": [
       "<div>\n",
       "<style scoped>\n",
       "    .dataframe tbody tr th:only-of-type {\n",
       "        vertical-align: middle;\n",
       "    }\n",
       "\n",
       "    .dataframe tbody tr th {\n",
       "        vertical-align: top;\n",
       "    }\n",
       "\n",
       "    .dataframe thead th {\n",
       "        text-align: right;\n",
       "    }\n",
       "</style>\n",
       "<table border=\"1\" class=\"dataframe\">\n",
       "  <thead>\n",
       "    <tr style=\"text-align: right;\">\n",
       "      <th></th>\n",
       "      <th>TV</th>\n",
       "      <th>radio</th>\n",
       "      <th>newspaper</th>\n",
       "      <th>sales</th>\n",
       "    </tr>\n",
       "  </thead>\n",
       "  <tbody>\n",
       "    <tr>\n",
       "      <th>0</th>\n",
       "      <td>230.1</td>\n",
       "      <td>37.8</td>\n",
       "      <td>69.2</td>\n",
       "      <td>22.1</td>\n",
       "    </tr>\n",
       "    <tr>\n",
       "      <th>1</th>\n",
       "      <td>44.5</td>\n",
       "      <td>39.3</td>\n",
       "      <td>45.1</td>\n",
       "      <td>10.4</td>\n",
       "    </tr>\n",
       "    <tr>\n",
       "      <th>2</th>\n",
       "      <td>17.2</td>\n",
       "      <td>45.9</td>\n",
       "      <td>69.3</td>\n",
       "      <td>9.3</td>\n",
       "    </tr>\n",
       "    <tr>\n",
       "      <th>3</th>\n",
       "      <td>151.5</td>\n",
       "      <td>41.3</td>\n",
       "      <td>58.5</td>\n",
       "      <td>18.5</td>\n",
       "    </tr>\n",
       "    <tr>\n",
       "      <th>4</th>\n",
       "      <td>180.8</td>\n",
       "      <td>10.8</td>\n",
       "      <td>58.4</td>\n",
       "      <td>12.9</td>\n",
       "    </tr>\n",
       "  </tbody>\n",
       "</table>\n",
       "</div>"
      ],
      "text/plain": [
       "      TV  radio  newspaper  sales\n",
       "0  230.1   37.8       69.2   22.1\n",
       "1   44.5   39.3       45.1   10.4\n",
       "2   17.2   45.9       69.3    9.3\n",
       "3  151.5   41.3       58.5   18.5\n",
       "4  180.8   10.8       58.4   12.9"
      ]
     },
     "execution_count": 3,
     "metadata": {},
     "output_type": "execute_result"
    }
   ],
   "source": [
    "ad = pd.read_csv(\"/Users/firatyalin/Desktop/GIT/My-Data-Science-Training/ML/Data/Advertising.csv\",usecols=[1,2,3,4])\n",
    "df=ad.copy()\n",
    "df.head()"
   ]
  },
  {
   "cell_type": "code",
   "execution_count": 14,
   "id": "ca3e4abb",
   "metadata": {},
   "outputs": [],
   "source": [
    "from sklearn.model_selection import train_test_split ,cross_val_score,cross_val_predict\n",
    "import statsmodels.api as sm"
   ]
  },
  {
   "cell_type": "code",
   "execution_count": null,
   "id": "0eaeed5f",
   "metadata": {},
   "outputs": [],
   "source": [
    "X=df.drop(\"sales\",axis=1)\n",
    "y=df[\"sales\"]\n",
    "X_train, X_test, y_train, y_test =train_test_split(X,y,test_size=0.20,random_state=42)"
   ]
  },
  {
   "cell_type": "code",
   "execution_count": 11,
   "id": "fda6300c",
   "metadata": {},
   "outputs": [],
   "source": [
    "training=df.copy()"
   ]
  },
  {
   "cell_type": "markdown",
   "id": "6cbe2a3b",
   "metadata": {},
   "source": [
    "#Statsmodels"
   ]
  },
  {
   "cell_type": "code",
   "execution_count": 16,
   "id": "4c7f0191",
   "metadata": {},
   "outputs": [
    {
     "data": {
      "text/html": [
       "<table class=\"simpletable\">\n",
       "<caption>OLS Regression Results</caption>\n",
       "<tr>\n",
       "  <th>Dep. Variable:</th>          <td>sales</td>      <th>  R-squared (uncentered):</th>      <td>   0.982</td> \n",
       "</tr>\n",
       "<tr>\n",
       "  <th>Model:</th>                   <td>OLS</td>       <th>  Adj. R-squared (uncentered):</th> <td>   0.982</td> \n",
       "</tr>\n",
       "<tr>\n",
       "  <th>Method:</th>             <td>Least Squares</td>  <th>  F-statistic:       </th>          <td>   2935.</td> \n",
       "</tr>\n",
       "<tr>\n",
       "  <th>Date:</th>             <td>Tue, 26 Aug 2025</td> <th>  Prob (F-statistic):</th>          <td>1.28e-137</td>\n",
       "</tr>\n",
       "<tr>\n",
       "  <th>Time:</th>                 <td>16:05:26</td>     <th>  Log-Likelihood:    </th>          <td> -336.65</td> \n",
       "</tr>\n",
       "<tr>\n",
       "  <th>No. Observations:</th>      <td>   160</td>      <th>  AIC:               </th>          <td>   679.3</td> \n",
       "</tr>\n",
       "<tr>\n",
       "  <th>Df Residuals:</th>          <td>   157</td>      <th>  BIC:               </th>          <td>   688.5</td> \n",
       "</tr>\n",
       "<tr>\n",
       "  <th>Df Model:</th>              <td>     3</td>      <th>                     </th>              <td> </td>    \n",
       "</tr>\n",
       "<tr>\n",
       "  <th>Covariance Type:</th>      <td>nonrobust</td>    <th>                     </th>              <td> </td>    \n",
       "</tr>\n",
       "</table>\n",
       "<table class=\"simpletable\">\n",
       "<tr>\n",
       "      <td></td>         <th>coef</th>     <th>std err</th>      <th>t</th>      <th>P>|t|</th>  <th>[0.025</th>    <th>0.975]</th>  \n",
       "</tr>\n",
       "<tr>\n",
       "  <th>TV</th>        <td>    0.0531</td> <td>    0.001</td> <td>   36.467</td> <td> 0.000</td> <td>    0.050</td> <td>    0.056</td>\n",
       "</tr>\n",
       "<tr>\n",
       "  <th>radio</th>     <td>    0.2188</td> <td>    0.011</td> <td>   20.138</td> <td> 0.000</td> <td>    0.197</td> <td>    0.240</td>\n",
       "</tr>\n",
       "<tr>\n",
       "  <th>newspaper</th> <td>    0.0239</td> <td>    0.008</td> <td>    3.011</td> <td> 0.003</td> <td>    0.008</td> <td>    0.040</td>\n",
       "</tr>\n",
       "</table>\n",
       "<table class=\"simpletable\">\n",
       "<tr>\n",
       "  <th>Omnibus:</th>       <td>11.405</td> <th>  Durbin-Watson:     </th> <td>   1.895</td>\n",
       "</tr>\n",
       "<tr>\n",
       "  <th>Prob(Omnibus):</th> <td> 0.003</td> <th>  Jarque-Bera (JB):  </th> <td>  15.574</td>\n",
       "</tr>\n",
       "<tr>\n",
       "  <th>Skew:</th>          <td>-0.432</td> <th>  Prob(JB):          </th> <td>0.000415</td>\n",
       "</tr>\n",
       "<tr>\n",
       "  <th>Kurtosis:</th>      <td> 4.261</td> <th>  Cond. No.          </th> <td>    13.5</td>\n",
       "</tr>\n",
       "</table><br/><br/>Notes:<br/>[1] R² is computed without centering (uncentered) since the model does not contain a constant.<br/>[2] Standard Errors assume that the covariance matrix of the errors is correctly specified."
      ],
      "text/latex": [
       "\\begin{center}\n",
       "\\begin{tabular}{lclc}\n",
       "\\toprule\n",
       "\\textbf{Dep. Variable:}    &      sales       & \\textbf{  R-squared (uncentered):}      &     0.982   \\\\\n",
       "\\textbf{Model:}            &       OLS        & \\textbf{  Adj. R-squared (uncentered):} &     0.982   \\\\\n",
       "\\textbf{Method:}           &  Least Squares   & \\textbf{  F-statistic:       }          &     2935.   \\\\\n",
       "\\textbf{Date:}             & Tue, 26 Aug 2025 & \\textbf{  Prob (F-statistic):}          & 1.28e-137   \\\\\n",
       "\\textbf{Time:}             &     16:05:26     & \\textbf{  Log-Likelihood:    }          &   -336.65   \\\\\n",
       "\\textbf{No. Observations:} &         160      & \\textbf{  AIC:               }          &     679.3   \\\\\n",
       "\\textbf{Df Residuals:}     &         157      & \\textbf{  BIC:               }          &     688.5   \\\\\n",
       "\\textbf{Df Model:}         &           3      & \\textbf{                     }          &             \\\\\n",
       "\\textbf{Covariance Type:}  &    nonrobust     & \\textbf{                     }          &             \\\\\n",
       "\\bottomrule\n",
       "\\end{tabular}\n",
       "\\begin{tabular}{lcccccc}\n",
       "                   & \\textbf{coef} & \\textbf{std err} & \\textbf{t} & \\textbf{P$> |$t$|$} & \\textbf{[0.025} & \\textbf{0.975]}  \\\\\n",
       "\\midrule\n",
       "\\textbf{TV}        &       0.0531  &        0.001     &    36.467  &         0.000        &        0.050    &        0.056     \\\\\n",
       "\\textbf{radio}     &       0.2188  &        0.011     &    20.138  &         0.000        &        0.197    &        0.240     \\\\\n",
       "\\textbf{newspaper} &       0.0239  &        0.008     &     3.011  &         0.003        &        0.008    &        0.040     \\\\\n",
       "\\bottomrule\n",
       "\\end{tabular}\n",
       "\\begin{tabular}{lclc}\n",
       "\\textbf{Omnibus:}       & 11.405 & \\textbf{  Durbin-Watson:     } &    1.895  \\\\\n",
       "\\textbf{Prob(Omnibus):} &  0.003 & \\textbf{  Jarque-Bera (JB):  } &   15.574  \\\\\n",
       "\\textbf{Skew:}          & -0.432 & \\textbf{  Prob(JB):          } & 0.000415  \\\\\n",
       "\\textbf{Kurtosis:}      &  4.261 & \\textbf{  Cond. No.          } &     13.5  \\\\\n",
       "\\bottomrule\n",
       "\\end{tabular}\n",
       "%\\caption{OLS Regression Results}\n",
       "\\end{center}\n",
       "\n",
       "Notes: \\newline\n",
       " [1] R² is computed without centering (uncentered) since the model does not contain a constant. \\newline\n",
       " [2] Standard Errors assume that the covariance matrix of the errors is correctly specified."
      ],
      "text/plain": [
       "<class 'statsmodels.iolib.summary.Summary'>\n",
       "\"\"\"\n",
       "                                 OLS Regression Results                                \n",
       "=======================================================================================\n",
       "Dep. Variable:                  sales   R-squared (uncentered):                   0.982\n",
       "Model:                            OLS   Adj. R-squared (uncentered):              0.982\n",
       "Method:                 Least Squares   F-statistic:                              2935.\n",
       "Date:                Tue, 26 Aug 2025   Prob (F-statistic):                   1.28e-137\n",
       "Time:                        16:05:26   Log-Likelihood:                         -336.65\n",
       "No. Observations:                 160   AIC:                                      679.3\n",
       "Df Residuals:                     157   BIC:                                      688.5\n",
       "Df Model:                           3                                                  \n",
       "Covariance Type:            nonrobust                                                  \n",
       "==============================================================================\n",
       "                 coef    std err          t      P>|t|      [0.025      0.975]\n",
       "------------------------------------------------------------------------------\n",
       "TV             0.0531      0.001     36.467      0.000       0.050       0.056\n",
       "radio          0.2188      0.011     20.138      0.000       0.197       0.240\n",
       "newspaper      0.0239      0.008      3.011      0.003       0.008       0.040\n",
       "==============================================================================\n",
       "Omnibus:                       11.405   Durbin-Watson:                   1.895\n",
       "Prob(Omnibus):                  0.003   Jarque-Bera (JB):               15.574\n",
       "Skew:                          -0.432   Prob(JB):                     0.000415\n",
       "Kurtosis:                       4.261   Cond. No.                         13.5\n",
       "==============================================================================\n",
       "\n",
       "Notes:\n",
       "[1] R² is computed without centering (uncentered) since the model does not contain a constant.\n",
       "[2] Standard Errors assume that the covariance matrix of the errors is correctly specified.\n",
       "\"\"\""
      ]
     },
     "execution_count": 16,
     "metadata": {},
     "output_type": "execute_result"
    }
   ],
   "source": [
    "lm=sm.OLS(y_train,X_train)\n",
    "model=lm.fit()\n",
    "model.summary()\n"
   ]
  },
  {
   "cell_type": "code",
   "execution_count": 17,
   "id": "8140b626",
   "metadata": {},
   "outputs": [
    {
     "data": {
      "text/html": [
       "<table class=\"simpletable\">\n",
       "<tr>\n",
       "      <td></td>         <th>coef</th>     <th>std err</th>      <th>t</th>      <th>P>|t|</th>  <th>[0.025</th>    <th>0.975]</th>  \n",
       "</tr>\n",
       "<tr>\n",
       "  <th>TV</th>        <td>    0.0531</td> <td>    0.001</td> <td>   36.467</td> <td> 0.000</td> <td>    0.050</td> <td>    0.056</td>\n",
       "</tr>\n",
       "<tr>\n",
       "  <th>radio</th>     <td>    0.2188</td> <td>    0.011</td> <td>   20.138</td> <td> 0.000</td> <td>    0.197</td> <td>    0.240</td>\n",
       "</tr>\n",
       "<tr>\n",
       "  <th>newspaper</th> <td>    0.0239</td> <td>    0.008</td> <td>    3.011</td> <td> 0.003</td> <td>    0.008</td> <td>    0.040</td>\n",
       "</tr>\n",
       "</table>"
      ],
      "text/latex": [
       "\\begin{center}\n",
       "\\begin{tabular}{lcccccc}\n",
       "\\toprule\n",
       "                   & \\textbf{coef} & \\textbf{std err} & \\textbf{t} & \\textbf{P$> |$t$|$} & \\textbf{[0.025} & \\textbf{0.975]}  \\\\\n",
       "\\midrule\n",
       "\\textbf{TV}        &       0.0531  &        0.001     &    36.467  &         0.000        &        0.050    &        0.056     \\\\\n",
       "\\textbf{radio}     &       0.2188  &        0.011     &    20.138  &         0.000        &        0.197    &        0.240     \\\\\n",
       "\\textbf{newspaper} &       0.0239  &        0.008     &     3.011  &         0.003        &        0.008    &        0.040     \\\\\n",
       "\\bottomrule\n",
       "\\end{tabular}\n",
       "\\end{center}"
      ],
      "text/plain": [
       "<class 'statsmodels.iolib.table.SimpleTable'>"
      ]
     },
     "execution_count": 17,
     "metadata": {},
     "output_type": "execute_result"
    }
   ],
   "source": [
    "model.summary().tables[1]"
   ]
  },
  {
   "cell_type": "markdown",
   "id": "81290b3b",
   "metadata": {},
   "source": [
    "scikit-learn model"
   ]
  },
  {
   "cell_type": "code",
   "execution_count": null,
   "id": "00cb1ed3",
   "metadata": {},
   "outputs": [],
   "source": []
  },
  {
   "cell_type": "code",
   "execution_count": 19,
   "id": "20e4e14b",
   "metadata": {},
   "outputs": [
    {
     "data": {
      "text/plain": [
       "np.float64(2.9790673381226345)"
      ]
     },
     "execution_count": 19,
     "metadata": {},
     "output_type": "execute_result"
    }
   ],
   "source": [
    "lm=LinearRegression()\n",
    "model=lm.fit(X_train,y_train)\n",
    "model.intercept_"
   ]
  },
  {
   "cell_type": "code",
   "execution_count": 20,
   "id": "706bca4b",
   "metadata": {},
   "outputs": [
    {
     "data": {
      "text/plain": [
       "array([0.04472952, 0.18919505, 0.00276111])"
      ]
     },
     "execution_count": 20,
     "metadata": {},
     "output_type": "execute_result"
    }
   ],
   "source": [
    "model.coef_"
   ]
  },
  {
   "cell_type": "markdown",
   "id": "95009b2c",
   "metadata": {},
   "source": [
    "foto"
   ]
  },
  {
   "cell_type": "code",
   "execution_count": 21,
   "id": "a086470c",
   "metadata": {},
   "outputs": [],
   "source": [
    "new_df=[[30],[10],[50]]\n",
    "new_df=pd.DataFrame(new_df).T"
   ]
  },
  {
   "cell_type": "code",
   "execution_count": 22,
   "id": "ea30c64a",
   "metadata": {},
   "outputs": [
    {
     "name": "stderr",
     "output_type": "stream",
     "text": [
      "/Library/Frameworks/Python.framework/Versions/3.12/lib/python3.12/site-packages/sklearn/utils/validation.py:2739: UserWarning: X does not have valid feature names, but LinearRegression was fitted with feature names\n",
      "  warnings.warn(\n"
     ]
    },
    {
     "data": {
      "text/plain": [
       "array([6.35095912])"
      ]
     },
     "execution_count": 22,
     "metadata": {},
     "output_type": "execute_result"
    }
   ],
   "source": [
    "model.predict(new_df)"
   ]
  },
  {
   "cell_type": "code",
   "execution_count": null,
   "id": "fe7bedff",
   "metadata": {},
   "outputs": [],
   "source": [
    "rmse=np.sqrt(mean_squared_error(y_train,model.predict(X_train)))a"
   ]
  },
  {
   "cell_type": "code",
   "execution_count": 26,
   "id": "9f965fef",
   "metadata": {},
   "outputs": [
    {
     "data": {
      "text/plain": [
       "np.float64(1.6447277656443373)"
      ]
     },
     "execution_count": 26,
     "metadata": {},
     "output_type": "execute_result"
    }
   ],
   "source": [
    "rmse"
   ]
  },
  {
   "cell_type": "code",
   "execution_count": 29,
   "id": "687d0943",
   "metadata": {},
   "outputs": [],
   "source": [
    "rmse=np.sqrt(mean_squared_error(y_test,model.predict(X_test)))\n"
   ]
  },
  {
   "cell_type": "code",
   "execution_count": 30,
   "id": "2de26522",
   "metadata": {},
   "outputs": [
    {
     "data": {
      "text/plain": [
       "np.float64(1.7815996615334506)"
      ]
     },
     "execution_count": 30,
     "metadata": {},
     "output_type": "execute_result"
    }
   ],
   "source": [
    "rmse"
   ]
  },
  {
   "cell_type": "code",
   "execution_count": null,
   "id": "68913597",
   "metadata": {},
   "outputs": [],
   "source": []
  }
 ],
 "metadata": {
  "kernelspec": {
   "display_name": "Python 3",
   "language": "python",
   "name": "python3"
  },
  "language_info": {
   "codemirror_mode": {
    "name": "ipython",
    "version": 3
   },
   "file_extension": ".py",
   "mimetype": "text/x-python",
   "name": "python",
   "nbconvert_exporter": "python",
   "pygments_lexer": "ipython3",
   "version": "3.12.2"
  }
 },
 "nbformat": 4,
 "nbformat_minor": 5
}
